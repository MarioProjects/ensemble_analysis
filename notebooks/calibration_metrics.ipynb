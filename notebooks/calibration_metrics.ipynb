{
 "cells": [
  {
   "cell_type": "code",
   "execution_count": 1,
   "metadata": {},
   "outputs": [],
   "source": [
    "%config Completer.use_jedi = False"
   ]
  },
  {
   "cell_type": "markdown",
   "metadata": {},
   "source": [
    "Perform ensemble evaluation from logits files"
   ]
  },
  {
   "cell_type": "markdown",
   "metadata": {},
   "source": [
    "## Import stuff and create arguments"
   ]
  },
  {
   "cell_type": "code",
   "execution_count": 2,
   "metadata": {},
   "outputs": [],
   "source": [
    "import os\n",
    "import numpy as np\n",
    "import seaborn as sns\n",
    "import pandas as pd\n",
    "import torch\n",
    "import matplotlib.pyplot as plt"
   ]
  },
  {
   "cell_type": "code",
   "execution_count": 3,
   "metadata": {},
   "outputs": [],
   "source": [
    "import sys\n",
    "sys.path.append('../')\n",
    "\n",
    "from models import model_selector\n",
    "from utils.data_augmentation import data_augmentation_selector\n",
    "from utils.datasets import dataset_selector\n",
    "from utils.neural import *\n",
    "from utils.metrics import compute_accuracy"
   ]
  },
  {
   "cell_type": "markdown",
   "metadata": {},
   "source": [
    "## Load logits"
   ]
  },
  {
   "cell_type": "code",
   "execution_count": 4,
   "metadata": {},
   "outputs": [],
   "source": [
    "logits_dir=\"../logits\"\n",
    "prefix = \"test\""
   ]
  },
  {
   "cell_type": "code",
   "execution_count": 5,
   "metadata": {},
   "outputs": [],
   "source": [
    "logits_paths = []\n",
    "for subdir, dirs, files in os.walk(logits_dir):\n",
    "    for file in files:\n",
    "        file_path = os.path.join(subdir, file)\n",
    "        if f\"{prefix}_logits\" in file_path:\n",
    "            logits_paths.append(file_path)\n",
    "\n",
    "if not len(logits_paths):\n",
    "    assert False, f\"Could not find any file at subdirectoreis of '{logits_dir}' with prefix '{prefix}'\""
   ]
  },
  {
   "cell_type": "markdown",
   "metadata": {},
   "source": [
    "## Get logits and labels"
   ]
  },
  {
   "cell_type": "code",
   "execution_count": 6,
   "metadata": {},
   "outputs": [
    {
     "name": "stdout",
     "output_type": "stream",
     "text": [
      "model1/test_logits_model_kuangliu_resnet18_best_accuracy.pt: 0.9482\n",
      "model2/test_logits_model_kuangliu_resnet18_best_accuracy.pt: 0.9438\n",
      "model3/test_logits_model_kuangliu_resnet18_best_accuracy.pt: 0.9469\n",
      "model4/test_logits_model_kuangliu_resnet18_best_accuracy.pt: 0.9448\n",
      "model5/test_logits_model_kuangliu_resnet18_best_accuracy.pt: 0.9458\n"
     ]
    }
   ],
   "source": [
    "logits_list, labels_list = [], []\n",
    "for lp in logits_paths:\n",
    "    logits_name = \"/\".join(lp.split(\"/\")[-2:])\n",
    "    info = torch.load(lp)\n",
    "    logits = info[\"logits\"].cpu()\n",
    "    labels = info[\"labels\"].cpu()\n",
    "\n",
    "    logits_accuracy = compute_accuracy(labels, logits)\n",
    "    print(f\"{logits_name}: {logits_accuracy}\")\n",
    "    logits_list.append(logits)\n",
    "    labels_list.append(labels)\n",
    "\n",
    "# logits_list shape: torch.Size([N, 10000, 10]) (CIFAR10 example)\n",
    "logits_list = torch.stack(logits_list)"
   ]
  },
  {
   "cell_type": "markdown",
   "metadata": {},
   "source": [
    "#### -- Check if al labels has the same order for all logits --"
   ]
  },
  {
   "cell_type": "code",
   "execution_count": 7,
   "metadata": {},
   "outputs": [],
   "source": [
    "labels = labels_list[0]\n",
    "for indx, label_list in enumerate(labels_list[1:]):\n",
    "    # Si alguno difiere del primero es que no es igual al resto tampoco\n",
    "    if not torch.all(labels.eq(label_list)):\n",
    "        assert False, f\"Labels list does not match!\""
   ]
  },
  {
   "cell_type": "markdown",
   "metadata": {},
   "source": [
    "## Compute Calibration Metrics"
   ]
  },
  {
   "cell_type": "code",
   "execution_count": 8,
   "metadata": {},
   "outputs": [],
   "source": [
    "from utils.calibration import *"
   ]
  },
  {
   "cell_type": "code",
   "execution_count": 9,
   "metadata": {},
   "outputs": [
    {
     "data": {
      "text/plain": [
       "torch.Size([5, 10000, 10])"
      ]
     },
     "execution_count": 9,
     "metadata": {},
     "output_type": "execute_result"
    }
   ],
   "source": [
    "softmax = nn.Softmax(dim=2)\n",
    "probs_list = softmax(logits_list)\n",
    "probs_list.shape"
   ]
  },
  {
   "cell_type": "code",
   "execution_count": 10,
   "metadata": {},
   "outputs": [
    {
     "name": "stdout",
     "output_type": "stream",
     "text": [
      "---- First model Calibration Metrics ----\n",
      "ECE: 0.024884950649738308\n",
      "MCE: 0.013317647820711135\n",
      "BRIER: 0.008238566108047962\n",
      "NNL: 0.19300468266010284\n"
     ]
    }
   ],
   "source": [
    "print(\"---- First model Calibration Metrics ----\")\n",
    "ECE, MCE, BRIER, NNL = compute_calibration_metrics(probs_list[0], labels, apply_softmax=False, bins=15)\n",
    "print(f\"ECE: {ECE}\")\n",
    "print(f\"MCE: {MCE}\")\n",
    "print(f\"BRIER: {BRIER}\")\n",
    "print(f\"NNL: {NNL}\")"
   ]
  }
 ],
 "metadata": {
  "kernelspec": {
   "display_name": "Python 3",
   "language": "python",
   "name": "python3"
  },
  "language_info": {
   "codemirror_mode": {
    "name": "ipython",
    "version": 3
   },
   "file_extension": ".py",
   "mimetype": "text/x-python",
   "name": "python",
   "nbconvert_exporter": "python",
   "pygments_lexer": "ipython3",
   "version": "3.8.5"
  }
 },
 "nbformat": 4,
 "nbformat_minor": 4
}