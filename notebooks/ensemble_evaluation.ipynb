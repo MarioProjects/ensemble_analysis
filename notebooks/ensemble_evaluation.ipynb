{
 "cells": [
  {
   "cell_type": "code",
   "execution_count": 1,
   "metadata": {},
   "outputs": [],
   "source": [
    "%config Completer.use_jedi = False"
   ]
  },
  {
   "cell_type": "markdown",
   "metadata": {},
   "source": [
    "Perform ensemble evaluation from logits files"
   ]
  },
  {
   "cell_type": "markdown",
   "metadata": {},
   "source": [
    "## Import stuff and create arguments"
   ]
  },
  {
   "cell_type": "code",
   "execution_count": 2,
   "metadata": {},
   "outputs": [],
   "source": [
    "import os\n",
    "import numpy as np\n",
    "import seaborn as sns\n",
    "import pandas as pd\n",
    "import torch\n",
    "import matplotlib.pyplot as plt"
   ]
  },
  {
   "cell_type": "code",
   "execution_count": 3,
   "metadata": {},
   "outputs": [],
   "source": [
    "import sys\n",
    "sys.path.append('../')\n",
    "\n",
    "from models import model_selector\n",
    "from utils.data_augmentation import data_augmentation_selector\n",
    "from utils.datasets import dataset_selector\n",
    "from utils.neural import *\n",
    "from utils.metrics import compute_accuracy"
   ]
  },
  {
   "cell_type": "code",
   "execution_count": 42,
   "metadata": {},
   "outputs": [],
   "source": [
    "def ensemble_evaluation(logits_dir=\"logits\", prefix=\"test\", ensemble_strategy=[\"avg, vote\"]):\n",
    "    \n",
    "    # Check ensemble strategies are okey\n",
    "    available_strategies = [\"avg\", \"vote\"]\n",
    "    if len(ensemble_strategy) == 0: assert False, \"Please specify a ensemble strategy\"\n",
    "    ensemble_strategy = [ensemble_strategy] if isinstance(ensemble_strategy, str) else ensemble_strategy\n",
    "    for strategy in ensemble_strategy:\n",
    "        if strategy not in available_strategies:\n",
    "            assert False, f\"Unknown strategy {strategy}\"\n",
    "    \n",
    "    # Load logits\n",
    "    logits_paths = []\n",
    "    for subdir, dirs, files in os.walk(logits_dir):\n",
    "        for file in files:\n",
    "            file_path = os.path.join(subdir, file)\n",
    "            if f\"{prefix}_logits\" in file_path:\n",
    "                logits_paths.append(file_path)\n",
    "                \n",
    "    if not len(logits_paths):\n",
    "        assert False, f\"Could not find any file at subdirectoreis of '{logits_dir}' with prefix '{prefix}'\"\n",
    "    \n",
    "    # Get logits and labels\n",
    "    logits_list, labels_list = [], []\n",
    "    for lp in logits_paths:\n",
    "        logits_name = \"/\".join(lp.split(\"/\")[-2:])\n",
    "        info = torch.load(lp)\n",
    "        logits = info[\"logits\"].cpu()\n",
    "        labels = info[\"labels\"].cpu()\n",
    "\n",
    "        logits_accuracy = compute_accuracy(labels, logits)\n",
    "        print(f\"{logits_name}: {logits_accuracy}\")\n",
    "        logits_list.append(logits)\n",
    "        labels_list.append(labels)\n",
    "    \n",
    "    # logits_list shape: torch.Size([N, 10000, 10]) (CIFAR10 example)\n",
    "    logits_list = torch.stack(logits_list)\n",
    "    \n",
    "    # -- Check if al labels has the same order for all logits --\n",
    "    labels = labels_list[0]\n",
    "    for indx, label_list in enumerate(labels_list[1:]):\n",
    "        # Si alguno difiere del primero es que no es igual al resto tampoco\n",
    "        if not torch.all(labels.eq(label_list)):\n",
    "            assert False, f\"Labels list does not match!\"\n",
    "    \n",
    "    # -- Ensemble Strategies ---\n",
    "    if \"avg\" in ensemble_strategy:\n",
    "        softmax = nn.Softmax(dim=2)\n",
    "        probs_list = softmax(logits_list)\n",
    "        probs_avg = probs_list.sum(dim=0) / len(probs_list)\n",
    "        probs_avg_accuracy = compute_accuracy(labels, probs_avg)\n",
    "        print(f\"--- Avg Strategy: {probs_avg_accuracy} ---\")\n",
    "    \n",
    "    if \"vote\" in ensemble_strategy:\n",
    "        _, vote_list = torch.max(logits_list.data, dim=2)\n",
    "        vote_list = torch.nn.functional.one_hot(vote_list)\n",
    "        vote_list = vote_list.sum(dim=0)\n",
    "        _, vote_list = torch.max(vote_list.data, dim=1)\n",
    "        vote_accuracy = (vote_list == labels).sum().item() / len(labels)\n",
    "        print(f\"--- Vote Strategy: {vote_accuracy} ---\")"
   ]
  },
  {
   "cell_type": "code",
   "execution_count": 44,
   "metadata": {},
   "outputs": [
    {
     "name": "stdout",
     "output_type": "stream",
     "text": [
      "model1/val_logits_model_kuangliu_resnet18_best_accuracy.pt: 0.9478\n",
      "model2/val_logits_model_kuangliu_resnet18_best_accuracy.pt: 0.9488\n",
      "model3/val_logits_model_kuangliu_resnet18_best_accuracy.pt: 0.95\n",
      "model4/val_logits_model_kuangliu_resnet18_best_accuracy.pt: 0.9472\n",
      "model5/val_logits_model_kuangliu_resnet18_best_accuracy.pt: 0.949\n",
      "--- Avg Strategy: 0.9582 ---\n",
      "--- Vote Strategy: 0.9564 ---\n"
     ]
    }
   ],
   "source": [
    "ensemble_evaluation(\"../logits\", prefix=\"val\", ensemble_strategy=[\"avg\", \"vote\"])"
   ]
  },
  {
   "cell_type": "code",
   "execution_count": 45,
   "metadata": {},
   "outputs": [
    {
     "name": "stdout",
     "output_type": "stream",
     "text": [
      "model1/test_logits_model_kuangliu_resnet18_best_accuracy.pt: 0.9482\n",
      "model2/test_logits_model_kuangliu_resnet18_best_accuracy.pt: 0.9438\n",
      "model3/test_logits_model_kuangliu_resnet18_best_accuracy.pt: 0.9469\n",
      "model4/test_logits_model_kuangliu_resnet18_best_accuracy.pt: 0.9448\n",
      "model5/test_logits_model_kuangliu_resnet18_best_accuracy.pt: 0.9458\n",
      "--- Avg Strategy: 0.9562 ---\n",
      "--- Vote Strategy: 0.9557 ---\n"
     ]
    }
   ],
   "source": [
    "ensemble_evaluation(\"../logits\", prefix=\"test\", ensemble_strategy=[\"avg\", \"vote\"])"
   ]
  }
 ],
 "metadata": {
  "kernelspec": {
   "display_name": "Python 3",
   "language": "python",
   "name": "python3"
  },
  "language_info": {
   "codemirror_mode": {
    "name": "ipython",
    "version": 3
   },
   "file_extension": ".py",
   "mimetype": "text/x-python",
   "name": "python",
   "nbconvert_exporter": "python",
   "pygments_lexer": "ipython3",
   "version": "3.8.5"
  }
 },
 "nbformat": 4,
 "nbformat_minor": 4
}
