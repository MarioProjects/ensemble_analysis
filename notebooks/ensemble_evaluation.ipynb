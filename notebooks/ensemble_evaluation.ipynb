{
 "cells": [
  {
   "cell_type": "code",
   "execution_count": 1,
   "metadata": {},
   "outputs": [],
   "source": [
    "%config Completer.use_jedi = False"
   ]
  },
  {
   "cell_type": "markdown",
   "metadata": {},
   "source": [
    "Perform ensemble evaluation from logits files"
   ]
  },
  {
   "cell_type": "markdown",
   "metadata": {},
   "source": [
    "## Import stuff and create arguments"
   ]
  },
  {
   "cell_type": "code",
   "execution_count": 2,
   "metadata": {},
   "outputs": [],
   "source": [
    "import os\n",
    "import numpy as np\n",
    "import seaborn as sns\n",
    "import pandas as pd\n",
    "import torch\n",
    "import matplotlib.pyplot as plt"
   ]
  },
  {
   "cell_type": "code",
   "execution_count": 3,
   "metadata": {},
   "outputs": [],
   "source": [
    "import sys\n",
    "sys.path.append('../')\n",
    "\n",
    "from models import model_selector\n",
    "from utils.data_augmentation import data_augmentation_selector\n",
    "from utils.datasets import dataset_selector\n",
    "from utils.neural import *\n",
    "from utils.metrics import compute_accuracy"
   ]
  },
  {
   "cell_type": "code",
   "execution_count": 4,
   "metadata": {},
   "outputs": [],
   "source": [
    "class Arguments(object):\n",
    "\n",
    "    def __init__(self):\n",
    "        \n",
    "        self.gpu = 0\n",
    "        self.seed = 301220201\n",
    "        self.output_dir = \"\"\n",
    "        self.problem_type = \"classification\"\n",
    "        self.epochs = -1\n",
    "        self.dataset = \"CIFAR10\"\n",
    "        self.defrost_epoch = -1\n",
    "        self.batch_size = 128\n",
    "        self.data_augmentation = \"cifar10\"\n",
    "        self.img_size = 32\n",
    "        self.crop_size = 32\n",
    "        self.normalization = \"statistics\"\n",
    "        self.add_depth = False\n",
    "        self.model_name = \"kuangliu_resnet18\"\n",
    "        self.num_classes = 1\n",
    "        self.metrics = ['accuracy']\n",
    "        self.generated_overlays = -1\n",
    "        self.optimizer = \"sgd\"\n",
    "        self.scheduler = \"steps\"\n",
    "        self.plateau_metric = None\n",
    "        self.learning_rate = 0.1\n",
    "        self.min_lr = 0.0001\n",
    "        self.max_lr = 0.01\n",
    "        self.scheduler_steps = [150, 250]\n",
    "        self.criterion = \"ce\"\n",
    "        self.weights_criterion = 1.0\n",
    "        self.model_checkpoint = None\n",
    "        self.swa_checkpoint = False\n",
    "        self.swa_freq = 1\n",
    "        self.swa_start = 999\n",
    "        self.swa_lr = 0.256\n",
    "        self.notify = False\n",
    "        \n",
    "args = Arguments()"
   ]
  },
  {
   "cell_type": "markdown",
   "metadata": {},
   "source": [
    "## Load Test Data"
   ]
  },
  {
   "cell_type": "markdown",
   "metadata": {},
   "source": [
    "Create data augmentations"
   ]
  },
  {
   "cell_type": "code",
   "execution_count": 5,
   "metadata": {},
   "outputs": [
    {
     "name": "stdout",
     "output_type": "stream",
     "text": [
      "Using CIFAR10 Data Augmentation Combinations\n"
     ]
    }
   ],
   "source": [
    "_, val_aug = data_augmentation_selector(\n",
    "    args.data_augmentation, args.img_size, args.crop_size\n",
    ")"
   ]
  },
  {
   "cell_type": "markdown",
   "metadata": {},
   "source": [
    "Create test dataloader"
   ]
  },
  {
   "cell_type": "code",
   "execution_count": 6,
   "metadata": {},
   "outputs": [],
   "source": [
    "test_loader = dataset_selector(None, val_aug, args, is_test=True, data_prefix=\"..\")"
   ]
  },
  {
   "cell_type": "code",
   "execution_count": 7,
   "metadata": {},
   "outputs": [],
   "source": [
    "test_labels = test_loader.dataset.labels\n",
    "test_labels = torch.tensor(test_labels).cpu()"
   ]
  },
  {
   "cell_type": "markdown",
   "metadata": {},
   "source": [
    "## Import test logits"
   ]
  },
  {
   "cell_type": "markdown",
   "metadata": {},
   "source": [
    "Logits will be stored inside 'logits' directory with subfolders named 'modelX' with the logits for each model"
   ]
  },
  {
   "cell_type": "code",
   "execution_count": 8,
   "metadata": {},
   "outputs": [],
   "source": [
    "logits_dir = \"../logits\""
   ]
  },
  {
   "cell_type": "code",
   "execution_count": 9,
   "metadata": {},
   "outputs": [],
   "source": [
    "logits_paths = []\n",
    "for subdir, dirs, files in os.walk(logits_dir):\n",
    "    for file in files:\n",
    "        file_path = os.path.join(subdir, file)\n",
    "        if \"test_logits\" in file_path:\n",
    "            logits_paths.append(file_path)"
   ]
  },
  {
   "cell_type": "code",
   "execution_count": 11,
   "metadata": {},
   "outputs": [
    {
     "name": "stdout",
     "output_type": "stream",
     "text": [
      "model1/test_logits_model_kuangliu_resnet18_best_accuracy.pt: 0.9483\n",
      "model2/test_logits_model_kuangliu_resnet18_best_accuracy.pt: 0.9463\n",
      "model3/test_logits_model_kuangliu_resnet18_best_accuracy.pt: 0.9474\n",
      "model4/test_logits_model_kuangliu_resnet18_best_accuracy.pt: 0.9486\n",
      "model5/test_logits_model_kuangliu_resnet18_best_accuracy.pt: 0.9465\n",
      "\n",
      "logits_list shape: torch.Size([5, 10000, 10])\n",
      "list logits sum: 0.9561\n"
     ]
    }
   ],
   "source": [
    "logits_list = []\n",
    "for lp in logits_paths:\n",
    "    logits_name = \"/\".join(lp.split(\"/\")[-2:])\n",
    "    logits = torch.load(lp).cpu()\n",
    "    logits_accuracy = compute_accuracy(test_labels, logits)\n",
    "    print(f\"{logits_name}: {logits_accuracy}\")\n",
    "    logits_list.append(logits)\n",
    "\n",
    "logits_list = torch.stack(logits_list)\n",
    "print(f\"\\nlogits_list shape: {logits_list.shape}\")\n",
    "\n",
    "logits_vote = logits_list.sum(dim=0)\n",
    "logits_vote_accuracy = compute_accuracy(test_labels, logits_vote)\n",
    "print(f\"list logits sum: {logits_vote_accuracy}\")"
   ]
  }
 ],
 "metadata": {
  "kernelspec": {
   "display_name": "Python 3",
   "language": "python",
   "name": "python3"
  },
  "language_info": {
   "codemirror_mode": {
    "name": "ipython",
    "version": 3
   },
   "file_extension": ".py",
   "mimetype": "text/x-python",
   "name": "python",
   "nbconvert_exporter": "python",
   "pygments_lexer": "ipython3",
   "version": "3.8.5"
  }
 },
 "nbformat": 4,
 "nbformat_minor": 4
}
